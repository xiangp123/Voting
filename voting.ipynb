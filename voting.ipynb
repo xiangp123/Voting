{
 "cells": [
  {
   "cell_type": "code",
   "execution_count": 1,
   "metadata": {},
   "outputs": [],
   "source": [
    "from factor_analysis_adv import *\n",
    "\n",
    "#时间\n",
    "import datetime\n",
    "\n",
    "#算法辅助&数据\n",
    "from sklearn.model_selection import KFold,cross_validate   #交叉验证\n",
    "from sklearn.metrics import confusion_matrix,accuracy_score,roc_curve,classification_report\n",
    "from sklearn.model_selection import train_test_split     #训练集测试集拆分\n",
    "\n",
    "#算法（单一学习器）                          \n",
    "from sklearn.tree import DecisionTreeClassifier\n",
    "from sklearn.ensemble import RandomForestClassifier\n",
    "from sklearn.neighbors import KNeighborsClassifier   \n",
    "from xgboost.sklearn import XGBClassifier\n",
    "from sklearn.svm import SVC\n",
    "\n",
    "#融合模型\n",
    "from sklearn.ensemble import VotingClassifier\n",
    "\n",
    "\n",
    "# 关闭警告\n",
    "import warnings\n",
    "warnings.filterwarnings(\"ignore\")\n",
    "import logging\n",
    "logging.getLogger().setLevel(logging.ERROR)"
   ]
  },
  {
   "cell_type": "markdown",
   "metadata": {},
   "source": [
    "### 1 数据导入"
   ]
  },
  {
   "cell_type": "code",
   "execution_count": null,
   "metadata": {},
   "outputs": [],
   "source": [
    "# 基准指数\n",
    "index_item = '000300.XSHG'\n",
    "# 机器学习数据\n",
    "data = pd.read_pickle('./data/ml_data.pkl')\n",
    "# 研究周期\n",
    "date_list = sorted(set(data.index.get_level_values(0)))                                    # 研究周期确定\n",
    "# 特征集\n",
    "x = data.loc[:,:'AMP20']                                                                 \n",
    "# 目标集合\n",
    "y = data.loc[:,'target']                                                                   # Y对象为binary数据1，0\n",
    "# 特征名称\n",
    "features = x.columns.tolist()                                                        "
   ]
  },
  {
   "cell_type": "markdown",
   "metadata": {},
   "source": [
    "#### randomforest"
   ]
  },
  {
   "cell_type": "code",
   "execution_count": null,
   "metadata": {},
   "outputs": [],
   "source": [
    "def best_estimetor_RandomForestClassifier(data_train_input,fatcors):\n",
    "    precision_postive_cv_clf = pd.DataFrame()\n",
    "    for j in tqdm(range(3,8,2)):\n",
    "        for t in np.logspace(-8,-5,3):\n",
    "            for z in range(int(np.sqrt(len(fatcors))),len(fatcors)-1,4):\n",
    "                clf = RandomForestClassifier(n_estimators=10,\n",
    "                                             criterion='gini',\n",
    "                                             max_features= z,\n",
    "                                             max_depth=j,\n",
    "                                             class_weight='balanced',\n",
    "                                             ccp_alpha=t,\n",
    "                                             random_state = 0,\n",
    "                                             n_jobs = -2)         #生成随机森林\n",
    "                precision_postive_cv = 0\n",
    "                for i in range(1,6):\n",
    "                    data_train = data_train_input[data_train_input.label != i]\n",
    "                    data_validation = data_train_input[data_train_input.label == i]\n",
    "                    x_train = data_train.loc[:,fatcors]\n",
    "                    y_train = data_train.loc[:,'target']\n",
    "                    x_val = data_validation.loc[:,fatcors]\n",
    "                    y_val = data_validation.loc[:,'target']\n",
    "                    clf.fit(x_train,y_train)\n",
    "                    y_hat = clf.predict(x_val)                                          # 训练模型\n",
    "                    martrix = confusion_matrix(y_val, y_hat)\n",
    "                    metric = martrix[1,1] / martrix[:,1].sum()                          # 精确率 预测是涨结果真的涨了\n",
    "                    precision_postive_cv += metric\n",
    "                temp = pd.DataFrame([j,t,z,precision_postive_cv/5],index = ['max_depth','ccp_alpha','max_features','precision_postive_cv'])\n",
    "                precision_postive_cv_clf = pd.concat([precision_postive_cv_clf,temp],axis = 1)\n",
    "    return precision_postive_cv_clf"
   ]
  },
  {
   "cell_type": "code",
   "execution_count": 5,
   "metadata": {},
   "outputs": [],
   "source": [
    "pre_gap = 240 * 2        # 预计算\n",
    "ret_gap = 5              # 预测收益\n",
    "predict_gap = 60         # 预测长度\n",
    "\n",
    "# 滚动周期\n",
    "trade_days = sorted(list(set(data.index.get_level_values(0).tolist())))\n",
    "re_train_days = trade_days[pre_gap::predict_gap]"
   ]
  },
  {
   "cell_type": "code",
   "execution_count": null,
   "metadata": {},
   "outputs": [],
   "source": [
    "\n",
    "def get_siganl_delay(x_test,T = 5):\n",
    "    # 时间获取\n",
    "    start_date = x_test.index.get_level_values(0).min()\n",
    "    end_date = x_test.index.get_level_values(0).max()\n",
    "    date_list = pd.to_datetime(get_trading_dates(start_date,end_date))\n",
    "    # 信号数字化\n",
    "    predict_signal = x_test['predict'].astype(int)\n",
    "    # 信号递延\n",
    "    predict_signal = predict_signal.unstack().fillna(0).reindex(date_list).unstack()\n",
    "    predict_signal_delay = pd.DataFrame({i:predict_signal.groupby(level=0).apply(lambda x:x.shift(i)) for i in range(1,T+1)}).sort_index()\n",
    "    # 信号叠加\n",
    "    predict_signal_delay['signal_level'] = predict_signal_delay.sum(axis = 1)\n",
    "    predict_signal_delay = predict_signal_delay.droplevel(0)\n",
    "    predict_signal_cum = predict_signal_delay.signal_level.unstack('order_book_id')\n",
    "\n",
    "    return predict_signal_cum,predict_signal_delay"
   ]
  },
  {
   "cell_type": "markdown",
   "metadata": {},
   "source": [
    "#### xgboost"
   ]
  },
  {
   "cell_type": "code",
   "execution_count": null,
   "metadata": {},
   "outputs": [],
   "source": [
    "def best_estimetor_XGBoost(data_train_input,fatcors):\n",
    "    precision_postive_cv_clf = pd.DataFrame()\n",
    "    for max_depth_level in tqdm([3,6,9]):\n",
    "        for eta_level in [0.8,1,1.2]:\n",
    "            for gamma_level in [0.001, 0.01, 0.1]:\n",
    "                clf = XGBClassifier(max_depth=max_depth_level,eta = eta_level,gamma = gamma_level)\n",
    "                precision_postive_cv = 0\n",
    "                for i in range(1,6):\n",
    "                    data_train = data_train_input[data_train_input.label != i]\n",
    "                    data_validation = data_train_input[data_train_input.label == i]\n",
    "                    x_train = data_train.loc[:,fatcors]\n",
    "                    y_train = data_train.loc[:,'target']\n",
    "                    x_val = data_validation.loc[:,fatcors]\n",
    "                    y_val = data_validation.loc[:,'target']\n",
    "                    clf.fit(x_train,y_train)\n",
    "                    y_hat = clf.predict(x_val)                                          # 训练模型\n",
    "                    martrix = confusion_matrix(y_val, y_hat)\n",
    "                    metric = martrix[1,1] / martrix[:,1].sum()                          # 精确率 预测是涨结果真的涨了\n",
    "                    precision_postive_cv += metric\n",
    "                temp = pd.DataFrame([max_depth_level,eta_level,gamma_level,precision_postive_cv/5],index = ['max_depth_level','eta_level','gamma_level','precision_postive_cv'])\n",
    "                precision_postive_cv_clf = pd.concat([precision_postive_cv_clf,temp],axis = 1)\n",
    "    return precision_postive_cv_clf"
   ]
  },
  {
   "cell_type": "markdown",
   "metadata": {},
   "source": [
    "#### KNN"
   ]
  },
  {
   "cell_type": "code",
   "execution_count": null,
   "metadata": {},
   "outputs": [],
   "source": [
    "def best_estimetor_knn(data_train_input,fatcors):\n",
    "    precision_postive_cv_clf = pd.DataFrame()\n",
    "    for n_neighbors_num in tqdm(range(3,12,4)):\n",
    "        clf = KNeighborsClassifier(n_neighbors=n_neighbors_num,n_jobs = -2)         \n",
    "        precision_postive_cv = 0\n",
    "        for i in range(1,6):\n",
    "            data_train = data_train_input[data_train_input.label != i]\n",
    "            data_validation = data_train_input[data_train_input.label == i]\n",
    "            x_train = data_train.loc[:,fatcors]\n",
    "            y_train = data_train.loc[:,'target']\n",
    "            x_val = data_validation.loc[:,fatcors]\n",
    "            y_val = data_validation.loc[:,'target']\n",
    "            clf.fit(x_train,y_train)\n",
    "            y_hat = clf.predict(x_val)                                          # 训练模型\n",
    "            martrix = confusion_matrix(y_val, y_hat)\n",
    "            metric = martrix[1,1] / martrix[:,1].sum()                          # 精确率 \n",
    "            precision_postive_cv += metric\n",
    "        temp = pd.DataFrame([n_neighbors_num,precision_postive_cv/5],index = ['n_neighbors_num','precision_postive_cv'])\n",
    "        precision_postive_cv_clf = pd.concat([precision_postive_cv_clf,temp],axis = 1)\n",
    "    return precision_postive_cv_clf"
   ]
  },
  {
   "cell_type": "markdown",
   "metadata": {},
   "source": [
    "    模型精确率排名作为权重\n",
    "    "
   ]
  },
  {
   "cell_type": "code",
   "execution_count": null,
   "metadata": {},
   "outputs": [
    {
     "name": "stderr",
     "output_type": "stream",
     "text": [
      "  0%|          | 0/12 [00:00<?, ?it/s]"
     ]
    },
    {
     "name": "stdout",
     "output_type": "stream",
     "text": [
      "2021-12-17 00:00:00\n",
      "{'weight_clf_rf': 3.0, 'weight_clf_xgb': 2.0, 'weight_clf_knn': 1.0}\n"
     ]
    },
    {
     "name": "stderr",
     "output_type": "stream",
     "text": [
      "  8%|▊         | 1/12 [00:06<01:12,  6.61s/it]"
     ]
    },
    {
     "name": "stdout",
     "output_type": "stream",
     "text": [
      "2022-03-21 00:00:00\n",
      "{'weight_clf_rf': 3.0, 'weight_clf_xgb': 2.0, 'weight_clf_knn': 1.0}\n"
     ]
    },
    {
     "name": "stderr",
     "output_type": "stream",
     "text": [
      " 17%|█▋        | 2/12 [00:12<01:00,  6.05s/it]"
     ]
    },
    {
     "name": "stdout",
     "output_type": "stream",
     "text": [
      "2022-06-21 00:00:00\n",
      "{'weight_clf_rf': 3.0, 'weight_clf_xgb': 1.0, 'weight_clf_knn': 2.0}\n"
     ]
    },
    {
     "name": "stderr",
     "output_type": "stream",
     "text": [
      " 25%|██▌       | 3/12 [00:16<00:48,  5.44s/it]"
     ]
    },
    {
     "name": "stdout",
     "output_type": "stream",
     "text": [
      "2022-09-14 00:00:00\n",
      "{'weight_clf_rf': 2.0, 'weight_clf_xgb': 3.0, 'weight_clf_knn': 1.0}\n"
     ]
    },
    {
     "name": "stderr",
     "output_type": "stream",
     "text": [
      " 33%|███▎      | 4/12 [00:22<00:43,  5.38s/it]"
     ]
    },
    {
     "name": "stdout",
     "output_type": "stream",
     "text": [
      "2022-12-14 00:00:00\n",
      "{'weight_clf_rf': 3.0, 'weight_clf_xgb': 2.0, 'weight_clf_knn': 1.0}\n"
     ]
    },
    {
     "name": "stderr",
     "output_type": "stream",
     "text": [
      " 42%|████▏     | 5/12 [00:28<00:39,  5.61s/it]"
     ]
    },
    {
     "name": "stdout",
     "output_type": "stream",
     "text": [
      "2023-03-16 00:00:00\n",
      "{'weight_clf_rf': 1.0, 'weight_clf_xgb': 2.0, 'weight_clf_knn': 3.0}\n"
     ]
    },
    {
     "name": "stderr",
     "output_type": "stream",
     "text": [
      " 50%|█████     | 6/12 [00:35<00:37,  6.29s/it]"
     ]
    },
    {
     "name": "stdout",
     "output_type": "stream",
     "text": [
      "2023-06-14 00:00:00\n",
      "{'weight_clf_rf': 2.0, 'weight_clf_xgb': 3.0, 'weight_clf_knn': 1.0}\n"
     ]
    },
    {
     "name": "stderr",
     "output_type": "stream",
     "text": [
      " 58%|█████▊    | 7/12 [00:41<00:31,  6.20s/it]"
     ]
    },
    {
     "name": "stdout",
     "output_type": "stream",
     "text": [
      "2023-09-08 00:00:00\n",
      "{'weight_clf_rf': 3.0, 'weight_clf_xgb': 1.0, 'weight_clf_knn': 2.0}\n"
     ]
    },
    {
     "name": "stderr",
     "output_type": "stream",
     "text": [
      " 67%|██████▋   | 8/12 [00:46<00:22,  5.70s/it]"
     ]
    },
    {
     "name": "stdout",
     "output_type": "stream",
     "text": [
      "2023-12-11 00:00:00\n",
      "{'weight_clf_rf': 3.0, 'weight_clf_xgb': 2.0, 'weight_clf_knn': 1.0}\n"
     ]
    },
    {
     "name": "stderr",
     "output_type": "stream",
     "text": [
      " 75%|███████▌  | 9/12 [00:49<00:14,  4.79s/it]"
     ]
    },
    {
     "name": "stdout",
     "output_type": "stream",
     "text": [
      "2024-03-13 00:00:00\n",
      "{'weight_clf_rf': 3.0, 'weight_clf_xgb': 2.0, 'weight_clf_knn': 1.0}\n"
     ]
    },
    {
     "name": "stderr",
     "output_type": "stream",
     "text": [
      " 83%|████████▎ | 10/12 [00:53<00:09,  4.67s/it]"
     ]
    },
    {
     "name": "stdout",
     "output_type": "stream",
     "text": [
      "2024-06-13 00:00:00\n",
      "{'weight_clf_rf': 3.0, 'weight_clf_xgb': 2.0, 'weight_clf_knn': 1.0}\n"
     ]
    },
    {
     "name": "stderr",
     "output_type": "stream",
     "text": [
      " 92%|█████████▏| 11/12 [00:57<00:04,  4.53s/it]"
     ]
    },
    {
     "name": "stdout",
     "output_type": "stream",
     "text": [
      "2024-09-05 00:00:00\n",
      "{'weight_clf_rf': 3.0, 'weight_clf_xgb': 2.0, 'weight_clf_knn': 1.0}\n"
     ]
    },
    {
     "name": "stderr",
     "output_type": "stream",
     "text": [
      "100%|██████████| 12/12 [01:02<00:00,  5.24s/it]\n"
     ]
    }
   ],
   "source": [
    "model_name = 'vote_metric_rank'\n",
    "data_test_total = pd.DataFrame()\n",
    "rf_record = {}\n",
    "xgb_record = {}\n",
    "knn_record = {}\n",
    "\n",
    "for i in tqdm(re_train_days):            # 测试5期\n",
    "    # 训练开始/结束时间\n",
    "    train_start = pd.Timestamp(get_previous_trading_date(i,(pre_gap + ret_gap)))\n",
    "    train_end = pd.Timestamp(get_previous_trading_date(i,ret_gap))\n",
    "    # 测试开始/结束时间\n",
    "    test_start = i\n",
    "    test_end = pd.Timestamp(get_next_trading_date(i,predict_gap - 1))\n",
    "    # 训练集数据\n",
    "    data_train = data.loc[train_start:train_end].fillna(0)\n",
    "    data_train_x = data_train.loc[:,features]\n",
    "    data_train_y = data_train.loc[:,'target']\n",
    "    # 测试集数据\n",
    "    data_test = data.loc[test_start:test_end].fillna(0)\n",
    "    data_test_x = data_test.loc[:,features]\n",
    "    \n",
    "    # 打标记号_5fold_交叉验证\n",
    "    date_len = sorted(set(data_train.index.get_level_values(0)))\n",
    "    fold_length = (len(date_len) - 80)//5\n",
    "    label = ([1] * fold_length \n",
    "            + [0] * 20 \n",
    "            + [2] * fold_length \n",
    "            + [0] * 20 \n",
    "            + [3] * fold_length \n",
    "            + [0] * 20 \n",
    "            + [4] * fold_length \n",
    "            + [0] * 20 \n",
    "            + [5] * (len(date_len) - 80 - (fold_length * 4))\n",
    "            )\n",
    "    for i,j in zip(date_len,label):\n",
    "        data_train.loc[i,'label'] = j\n",
    "    \n",
    "    # 模型训练\n",
    "    print(i)\n",
    "    record_date = test_start.strftime('%F')\n",
    "    \n",
    "    paramter_rf = rf_record[record_date]\n",
    "    paramter_xgb = xgb_record[record_date]\n",
    "    paramter_knn = knn_record[record_date]\n",
    "\n",
    "    # 模型输出\n",
    "    clf_rf = RandomForestClassifier(n_estimators = 10,\n",
    "                                    criterion = 'gini',\n",
    "                                    max_features = int(paramter_rf['max_features']),\n",
    "                                    max_depth = int(paramter_rf['max_depth']),\n",
    "                                    class_weight = 'balanced',\n",
    "                                    ccp_alpha = paramter_rf['ccp_alpha'],\n",
    "                                    random_state = 0)\n",
    "    \n",
    "    clf_xgb = XGBClassifier(max_depth = int(paramter_xgb['max_depth_level']),\n",
    "                            eta = paramter_xgb['eta_level'],\n",
    "                            gamma = paramter_xgb['gamma_level'])\n",
    "    \n",
    "    clf_knn = KNeighborsClassifier(n_neighbors=int(paramter_knn['n_neighbors_num']),\n",
    "                                   n_jobs = -2)    \n",
    "\n",
    "    # 投票法\n",
    "    estimators_voting1 =[('DecisionTreeClassifier',clf_rf),\n",
    "                        ('RandomForestClassifier',clf_xgb),\n",
    "                        ('KNeighborsClassifier',clf_knn)] \n",
    "    \n",
    "    weight_series = pd.Series({'weight_clf_rf':paramter_rf['precision_postive_cv'],\n",
    "                            'weight_clf_xgb':paramter_xgb['precision_postive_cv'],\n",
    "                            'weight_clf_knn':paramter_knn['precision_postive_cv']})\n",
    "    \n",
    "    weight_series_rank = weight_series.rank(ascending = True)\n",
    "    print(weight_series_rank.to_dict())\n",
    "\n",
    "    clf_voting = VotingClassifier(estimators_voting1,\n",
    "                                voting = 'soft',\n",
    "                                weights = [weight_series_rank['weight_clf_rf'],\n",
    "                                            weight_series_rank['weight_clf_xgb'],\n",
    "                                            weight_series_rank['weight_clf_knn']],\n",
    "                                n_jobs = -2)\n",
    "\n",
    "\n",
    "    # 预测结果输出\n",
    "    y_hat = clf_voting.fit(data_train_x,data_train_y).predict(data_test_x)\n",
    "    data_test['predict'] = y_hat\n",
    "    data_test_total = pd.concat([data_test_total,data_test[['predict']]],axis = 0)\n",
    "\n",
    "\n",
    "create_dir_not_exist('./data')\n",
    "data_test_total.to_pickle(f'./data/data_test_total_{model_name}.pkl')"
   ]
  },
  {
   "cell_type": "code",
   "execution_count": 28,
   "metadata": {},
   "outputs": [
    {
     "name": "stderr",
     "output_type": "stream",
     "text": [
      "100%|██████████| 142/142 [00:00<00:00, 179.24it/s]\n"
     ]
    },
    {
     "data": {
      "text/plain": [
       "{'策略累计收益': -0.0557,\n",
       " '策略年化收益': -0.0202,\n",
       " '基准累计收益': -0.2187,\n",
       " '基准年化收益': -0.084,\n",
       " '阿尔法': 0.0241,\n",
       " '贝塔': 0.68,\n",
       " '波动率': 0.1502,\n",
       " '夏普比率': -0.334,\n",
       " '下行波动率': 0.0917,\n",
       " '索提诺比率': -0.5472,\n",
       " '跟踪误差': 0.0792,\n",
       " '信息比率': 0.8059,\n",
       " '最大回撤': 0.2025,\n",
       " '卡玛比率': -0.0995,\n",
       " '超额累计收益': 0.2086,\n",
       " '超额年化收益': 0.0697,\n",
       " '超额波动率': 0.0774,\n",
       " '超额夏普': 0.5124,\n",
       " '超额最大回测': 0.0992,\n",
       " '胜率': 0.5664,\n",
       " '盈亏比': 0.9013}"
      ]
     },
     "execution_count": 28,
     "metadata": {},
     "output_type": "execute_result"
    },
    {
     "data": {
      "image/png": "[encoded data removed]",
      "text/plain": [
       "<Figure size 640x480 with 2 Axes>"
      ]
     },
     "metadata": {},
     "output_type": "display_data"
    }
   ],
   "source": [
    "model_name = 'vote_metric_rank'\n",
    "data_test_total = pd.read_pickle(f'./data/data_test_total_{model_name}.pkl')\n",
    "\n",
    "# 信号递延\n",
    "predict_signal_cum,predict_signal_delay = get_siganl_delay(data_test_total)\n",
    "# 回测检验\n",
    "buy_list = (predict_signal_cum != 0).astype(int)\n",
    "df_wight = buy_list.div(buy_list.sum(axis = 1),axis = 0).replace(0,np.nan)\n",
    "df_wight = df_wight.shift(1).dropna(how = 'all')\n",
    "account_result = backtest(df_wight,5)\n",
    "performance_cumnet,result = get_performance_analysis(account_result,index_item)\n",
    "performance_cumnet.plot(secondary_y='alpha')\n",
    "result"
   ]
  }
 ],
 "metadata": {
  "kernelspec": {
   "display_name": "rq",
   "language": "python",
   "name": "python3"
  },
  "language_info": {
   "codemirror_mode": {
    "name": "ipython",
    "version": 3
   },
   "file_extension": ".py",
   "mimetype": "text/x-python",
   "name": "python",
   "nbconvert_exporter": "python",
   "pygments_lexer": "ipython3",
   "version": "3.9.18"
  }
 },
 "nbformat": 4,
 "nbformat_minor": 2
}
